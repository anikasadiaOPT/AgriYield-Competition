{
 "cells": [
  {
   "cell_type": "markdown",
   "id": "d8330501-0af6-45cc-b576-4f3875b90aa1",
   "metadata": {},
   "source": [
    "# Imported the Libraries"
   ]
  },
  {
   "cell_type": "code",
   "execution_count": 5,
   "id": "08b5624c-15fa-4040-81a9-4fe5b46da921",
   "metadata": {},
   "outputs": [],
   "source": [
    "import numpy as np\n",
    "import pandas as pd\n",
    "import seaborn as sns\n",
    "import matplotlib.pyplot as plt"
   ]
  },
  {
   "cell_type": "markdown",
   "id": "892f6c35-fc00-497b-808e-5484d1ee3d78",
   "metadata": {},
   "source": [
    "# Imported the Datasets"
   ]
  },
  {
   "cell_type": "code",
   "execution_count": 6,
   "id": "7798a730-6d28-419f-bf71-2724b145ea1a",
   "metadata": {},
   "outputs": [],
   "source": [
    "df_train = pd.read_csv('train.csv')\n",
    "df_test = pd.read_csv('test.csv')"
   ]
  },
  {
   "cell_type": "code",
   "execution_count": 7,
   "id": "97b6e139-bdb4-4473-8dca-cab9982121c3",
   "metadata": {},
   "outputs": [
    {
     "data": {
      "text/html": [
       "<div>\n",
       "<style scoped>\n",
       "    .dataframe tbody tr th:only-of-type {\n",
       "        vertical-align: middle;\n",
       "    }\n",
       "\n",
       "    .dataframe tbody tr th {\n",
       "        vertical-align: top;\n",
       "    }\n",
       "\n",
       "    .dataframe thead th {\n",
       "        text-align: right;\n",
       "    }\n",
       "</style>\n",
       "<table border=\"1\" class=\"dataframe\">\n",
       "  <thead>\n",
       "    <tr style=\"text-align: right;\">\n",
       "      <th></th>\n",
       "      <th>field_id</th>\n",
       "      <th>soil_ph</th>\n",
       "      <th>organic_matter</th>\n",
       "      <th>sand_pct</th>\n",
       "      <th>temperature</th>\n",
       "      <th>humidity</th>\n",
       "      <th>rainfall</th>\n",
       "      <th>ndvi</th>\n",
       "      <th>yield</th>\n",
       "    </tr>\n",
       "  </thead>\n",
       "  <tbody>\n",
       "    <tr>\n",
       "      <th>0</th>\n",
       "      <td>F00001</td>\n",
       "      <td>6.25</td>\n",
       "      <td>2.66</td>\n",
       "      <td>41.6</td>\n",
       "      <td>25.2</td>\n",
       "      <td>70</td>\n",
       "      <td>110.2</td>\n",
       "      <td>0.46</td>\n",
       "      <td>4105.8</td>\n",
       "    </tr>\n",
       "    <tr>\n",
       "      <th>1</th>\n",
       "      <td>F00002</td>\n",
       "      <td>6.70</td>\n",
       "      <td>3.66</td>\n",
       "      <td>40.2</td>\n",
       "      <td>26.9</td>\n",
       "      <td>78</td>\n",
       "      <td>126.3</td>\n",
       "      <td>0.59</td>\n",
       "      <td>4247.8</td>\n",
       "    </tr>\n",
       "    <tr>\n",
       "      <th>2</th>\n",
       "      <td>F00003</td>\n",
       "      <td>7.21</td>\n",
       "      <td>3.45</td>\n",
       "      <td>40.0</td>\n",
       "      <td>27.6</td>\n",
       "      <td>66</td>\n",
       "      <td>109.4</td>\n",
       "      <td>0.64</td>\n",
       "      <td>4021.8</td>\n",
       "    </tr>\n",
       "    <tr>\n",
       "      <th>3</th>\n",
       "      <td>F00004</td>\n",
       "      <td>5.73</td>\n",
       "      <td>2.48</td>\n",
       "      <td>56.9</td>\n",
       "      <td>29.6</td>\n",
       "      <td>79</td>\n",
       "      <td>155.3</td>\n",
       "      <td>0.62</td>\n",
       "      <td>4326.8</td>\n",
       "    </tr>\n",
       "    <tr>\n",
       "      <th>4</th>\n",
       "      <td>F00005</td>\n",
       "      <td>6.88</td>\n",
       "      <td>3.61</td>\n",
       "      <td>30.6</td>\n",
       "      <td>25.0</td>\n",
       "      <td>80</td>\n",
       "      <td>172.6</td>\n",
       "      <td>0.62</td>\n",
       "      <td>3708.0</td>\n",
       "    </tr>\n",
       "    <tr>\n",
       "      <th>...</th>\n",
       "      <td>...</td>\n",
       "      <td>...</td>\n",
       "      <td>...</td>\n",
       "      <td>...</td>\n",
       "      <td>...</td>\n",
       "      <td>...</td>\n",
       "      <td>...</td>\n",
       "      <td>...</td>\n",
       "      <td>...</td>\n",
       "    </tr>\n",
       "    <tr>\n",
       "      <th>9995</th>\n",
       "      <td>F09996</td>\n",
       "      <td>6.23</td>\n",
       "      <td>1.76</td>\n",
       "      <td>34.0</td>\n",
       "      <td>29.2</td>\n",
       "      <td>65</td>\n",
       "      <td>156.1</td>\n",
       "      <td>0.69</td>\n",
       "      <td>4747.0</td>\n",
       "    </tr>\n",
       "    <tr>\n",
       "      <th>9996</th>\n",
       "      <td>F09997</td>\n",
       "      <td>7.05</td>\n",
       "      <td>2.80</td>\n",
       "      <td>32.8</td>\n",
       "      <td>27.4</td>\n",
       "      <td>76</td>\n",
       "      <td>155.9</td>\n",
       "      <td>0.52</td>\n",
       "      <td>4047.6</td>\n",
       "    </tr>\n",
       "    <tr>\n",
       "      <th>9997</th>\n",
       "      <td>F09998</td>\n",
       "      <td>7.00</td>\n",
       "      <td>3.97</td>\n",
       "      <td>55.3</td>\n",
       "      <td>26.9</td>\n",
       "      <td>67</td>\n",
       "      <td>134.0</td>\n",
       "      <td>0.49</td>\n",
       "      <td>4542.2</td>\n",
       "    </tr>\n",
       "    <tr>\n",
       "      <th>9998</th>\n",
       "      <td>F09999</td>\n",
       "      <td>7.30</td>\n",
       "      <td>1.59</td>\n",
       "      <td>54.1</td>\n",
       "      <td>28.4</td>\n",
       "      <td>84</td>\n",
       "      <td>118.7</td>\n",
       "      <td>0.70</td>\n",
       "      <td>4191.7</td>\n",
       "    </tr>\n",
       "    <tr>\n",
       "      <th>9999</th>\n",
       "      <td>F10000</td>\n",
       "      <td>6.11</td>\n",
       "      <td>2.65</td>\n",
       "      <td>50.1</td>\n",
       "      <td>26.1</td>\n",
       "      <td>76</td>\n",
       "      <td>167.3</td>\n",
       "      <td>0.64</td>\n",
       "      <td>4892.5</td>\n",
       "    </tr>\n",
       "  </tbody>\n",
       "</table>\n",
       "<p>10000 rows × 9 columns</p>\n",
       "</div>"
      ],
      "text/plain": [
       "     field_id  soil_ph  organic_matter  sand_pct  temperature  humidity  \\\n",
       "0      F00001     6.25            2.66      41.6         25.2        70   \n",
       "1      F00002     6.70            3.66      40.2         26.9        78   \n",
       "2      F00003     7.21            3.45      40.0         27.6        66   \n",
       "3      F00004     5.73            2.48      56.9         29.6        79   \n",
       "4      F00005     6.88            3.61      30.6         25.0        80   \n",
       "...       ...      ...             ...       ...          ...       ...   \n",
       "9995   F09996     6.23            1.76      34.0         29.2        65   \n",
       "9996   F09997     7.05            2.80      32.8         27.4        76   \n",
       "9997   F09998     7.00            3.97      55.3         26.9        67   \n",
       "9998   F09999     7.30            1.59      54.1         28.4        84   \n",
       "9999   F10000     6.11            2.65      50.1         26.1        76   \n",
       "\n",
       "      rainfall  ndvi   yield  \n",
       "0        110.2  0.46  4105.8  \n",
       "1        126.3  0.59  4247.8  \n",
       "2        109.4  0.64  4021.8  \n",
       "3        155.3  0.62  4326.8  \n",
       "4        172.6  0.62  3708.0  \n",
       "...        ...   ...     ...  \n",
       "9995     156.1  0.69  4747.0  \n",
       "9996     155.9  0.52  4047.6  \n",
       "9997     134.0  0.49  4542.2  \n",
       "9998     118.7  0.70  4191.7  \n",
       "9999     167.3  0.64  4892.5  \n",
       "\n",
       "[10000 rows x 9 columns]"
      ]
     },
     "execution_count": 7,
     "metadata": {},
     "output_type": "execute_result"
    }
   ],
   "source": [
    "df_train"
   ]
  },
  {
   "cell_type": "code",
   "execution_count": 8,
   "id": "d9b2ff3f-e41a-4660-867d-c7297124efc2",
   "metadata": {},
   "outputs": [
    {
     "data": {
      "text/html": [
       "<div>\n",
       "<style scoped>\n",
       "    .dataframe tbody tr th:only-of-type {\n",
       "        vertical-align: middle;\n",
       "    }\n",
       "\n",
       "    .dataframe tbody tr th {\n",
       "        vertical-align: top;\n",
       "    }\n",
       "\n",
       "    .dataframe thead th {\n",
       "        text-align: right;\n",
       "    }\n",
       "</style>\n",
       "<table border=\"1\" class=\"dataframe\">\n",
       "  <thead>\n",
       "    <tr style=\"text-align: right;\">\n",
       "      <th></th>\n",
       "      <th>field_id</th>\n",
       "      <th>soil_ph</th>\n",
       "      <th>organic_matter</th>\n",
       "      <th>sand_pct</th>\n",
       "      <th>temperature</th>\n",
       "      <th>humidity</th>\n",
       "      <th>rainfall</th>\n",
       "      <th>ndvi</th>\n",
       "    </tr>\n",
       "  </thead>\n",
       "  <tbody>\n",
       "    <tr>\n",
       "      <th>0</th>\n",
       "      <td>T00001</td>\n",
       "      <td>6.25</td>\n",
       "      <td>2.15</td>\n",
       "      <td>47.2</td>\n",
       "      <td>27.9</td>\n",
       "      <td>82</td>\n",
       "      <td>176.5</td>\n",
       "      <td>0.60</td>\n",
       "    </tr>\n",
       "    <tr>\n",
       "      <th>1</th>\n",
       "      <td>T00002</td>\n",
       "      <td>7.40</td>\n",
       "      <td>2.12</td>\n",
       "      <td>54.2</td>\n",
       "      <td>25.0</td>\n",
       "      <td>74</td>\n",
       "      <td>167.5</td>\n",
       "      <td>0.50</td>\n",
       "    </tr>\n",
       "    <tr>\n",
       "      <th>2</th>\n",
       "      <td>T00003</td>\n",
       "      <td>6.96</td>\n",
       "      <td>3.77</td>\n",
       "      <td>52.8</td>\n",
       "      <td>29.2</td>\n",
       "      <td>75</td>\n",
       "      <td>155.1</td>\n",
       "      <td>0.43</td>\n",
       "    </tr>\n",
       "    <tr>\n",
       "      <th>3</th>\n",
       "      <td>T00004</td>\n",
       "      <td>6.70</td>\n",
       "      <td>2.12</td>\n",
       "      <td>34.6</td>\n",
       "      <td>27.7</td>\n",
       "      <td>81</td>\n",
       "      <td>123.6</td>\n",
       "      <td>0.45</td>\n",
       "    </tr>\n",
       "    <tr>\n",
       "      <th>4</th>\n",
       "      <td>T00005</td>\n",
       "      <td>5.81</td>\n",
       "      <td>2.18</td>\n",
       "      <td>34.5</td>\n",
       "      <td>24.9</td>\n",
       "      <td>84</td>\n",
       "      <td>173.1</td>\n",
       "      <td>0.64</td>\n",
       "    </tr>\n",
       "    <tr>\n",
       "      <th>...</th>\n",
       "      <td>...</td>\n",
       "      <td>...</td>\n",
       "      <td>...</td>\n",
       "      <td>...</td>\n",
       "      <td>...</td>\n",
       "      <td>...</td>\n",
       "      <td>...</td>\n",
       "      <td>...</td>\n",
       "    </tr>\n",
       "    <tr>\n",
       "      <th>1995</th>\n",
       "      <td>T01996</td>\n",
       "      <td>6.81</td>\n",
       "      <td>2.61</td>\n",
       "      <td>50.5</td>\n",
       "      <td>25.6</td>\n",
       "      <td>78</td>\n",
       "      <td>145.8</td>\n",
       "      <td>0.68</td>\n",
       "    </tr>\n",
       "    <tr>\n",
       "      <th>1996</th>\n",
       "      <td>T01997</td>\n",
       "      <td>7.41</td>\n",
       "      <td>2.34</td>\n",
       "      <td>45.1</td>\n",
       "      <td>25.3</td>\n",
       "      <td>80</td>\n",
       "      <td>136.7</td>\n",
       "      <td>0.64</td>\n",
       "    </tr>\n",
       "    <tr>\n",
       "      <th>1997</th>\n",
       "      <td>T01998</td>\n",
       "      <td>5.64</td>\n",
       "      <td>2.49</td>\n",
       "      <td>53.0</td>\n",
       "      <td>26.7</td>\n",
       "      <td>81</td>\n",
       "      <td>122.2</td>\n",
       "      <td>0.61</td>\n",
       "    </tr>\n",
       "    <tr>\n",
       "      <th>1998</th>\n",
       "      <td>T01999</td>\n",
       "      <td>5.61</td>\n",
       "      <td>2.82</td>\n",
       "      <td>44.6</td>\n",
       "      <td>29.5</td>\n",
       "      <td>68</td>\n",
       "      <td>137.1</td>\n",
       "      <td>0.42</td>\n",
       "    </tr>\n",
       "    <tr>\n",
       "      <th>1999</th>\n",
       "      <td>T02000</td>\n",
       "      <td>6.06</td>\n",
       "      <td>1.90</td>\n",
       "      <td>34.5</td>\n",
       "      <td>24.6</td>\n",
       "      <td>77</td>\n",
       "      <td>136.0</td>\n",
       "      <td>0.71</td>\n",
       "    </tr>\n",
       "  </tbody>\n",
       "</table>\n",
       "<p>2000 rows × 8 columns</p>\n",
       "</div>"
      ],
      "text/plain": [
       "     field_id  soil_ph  organic_matter  sand_pct  temperature  humidity  \\\n",
       "0      T00001     6.25            2.15      47.2         27.9        82   \n",
       "1      T00002     7.40            2.12      54.2         25.0        74   \n",
       "2      T00003     6.96            3.77      52.8         29.2        75   \n",
       "3      T00004     6.70            2.12      34.6         27.7        81   \n",
       "4      T00005     5.81            2.18      34.5         24.9        84   \n",
       "...       ...      ...             ...       ...          ...       ...   \n",
       "1995   T01996     6.81            2.61      50.5         25.6        78   \n",
       "1996   T01997     7.41            2.34      45.1         25.3        80   \n",
       "1997   T01998     5.64            2.49      53.0         26.7        81   \n",
       "1998   T01999     5.61            2.82      44.6         29.5        68   \n",
       "1999   T02000     6.06            1.90      34.5         24.6        77   \n",
       "\n",
       "      rainfall  ndvi  \n",
       "0        176.5  0.60  \n",
       "1        167.5  0.50  \n",
       "2        155.1  0.43  \n",
       "3        123.6  0.45  \n",
       "4        173.1  0.64  \n",
       "...        ...   ...  \n",
       "1995     145.8  0.68  \n",
       "1996     136.7  0.64  \n",
       "1997     122.2  0.61  \n",
       "1998     137.1  0.42  \n",
       "1999     136.0  0.71  \n",
       "\n",
       "[2000 rows x 8 columns]"
      ]
     },
     "execution_count": 8,
     "metadata": {},
     "output_type": "execute_result"
    }
   ],
   "source": [
    "df_test"
   ]
  },
  {
   "cell_type": "code",
   "execution_count": 9,
   "id": "33688e55-cccf-4287-b610-12eeb197515e",
   "metadata": {},
   "outputs": [],
   "source": [
    "X_train = df_train.drop(['field_id', 'yield'], axis = 1).values\n",
    "y_train = df_train['yield'].values\n",
    "X_test = df_test.drop(['field_id'],axis = 1).values"
   ]
  },
  {
   "cell_type": "code",
   "execution_count": 10,
   "id": "1200b3ea-a721-4282-a12e-3cd9ea3531ca",
   "metadata": {},
   "outputs": [
    {
     "data": {
      "text/plain": [
       "array([[  6.25,   2.66,  41.6 , ...,  70.  , 110.2 ,   0.46],\n",
       "       [  6.7 ,   3.66,  40.2 , ...,  78.  , 126.3 ,   0.59],\n",
       "       [  7.21,   3.45,  40.  , ...,  66.  , 109.4 ,   0.64],\n",
       "       ...,\n",
       "       [  7.  ,   3.97,  55.3 , ...,  67.  , 134.  ,   0.49],\n",
       "       [  7.3 ,   1.59,  54.1 , ...,  84.  , 118.7 ,   0.7 ],\n",
       "       [  6.11,   2.65,  50.1 , ...,  76.  , 167.3 ,   0.64]],\n",
       "      shape=(10000, 7))"
      ]
     },
     "execution_count": 10,
     "metadata": {},
     "output_type": "execute_result"
    }
   ],
   "source": [
    "X_train"
   ]
  },
  {
   "cell_type": "code",
   "execution_count": 11,
   "id": "1e67503d-3d49-4966-8bfa-2f5fbe3b6d8c",
   "metadata": {},
   "outputs": [
    {
     "data": {
      "text/plain": [
       "array([[  6.25,   2.15,  47.2 , ...,  82.  , 176.5 ,   0.6 ],\n",
       "       [  7.4 ,   2.12,  54.2 , ...,  74.  , 167.5 ,   0.5 ],\n",
       "       [  6.96,   3.77,  52.8 , ...,  75.  , 155.1 ,   0.43],\n",
       "       ...,\n",
       "       [  5.64,   2.49,  53.  , ...,  81.  , 122.2 ,   0.61],\n",
       "       [  5.61,   2.82,  44.6 , ...,  68.  , 137.1 ,   0.42],\n",
       "       [  6.06,   1.9 ,  34.5 , ...,  77.  , 136.  ,   0.71]],\n",
       "      shape=(2000, 7))"
      ]
     },
     "execution_count": 11,
     "metadata": {},
     "output_type": "execute_result"
    }
   ],
   "source": [
    "X_test"
   ]
  },
  {
   "cell_type": "code",
   "execution_count": 12,
   "id": "cfaea8a9-4674-4298-beb5-f565d171538d",
   "metadata": {},
   "outputs": [
    {
     "data": {
      "text/plain": [
       "array([4105.8, 4247.8, 4021.8, ..., 4542.2, 4191.7, 4892.5],\n",
       "      shape=(10000,))"
      ]
     },
     "execution_count": 12,
     "metadata": {},
     "output_type": "execute_result"
    }
   ],
   "source": [
    "y_train"
   ]
  },
  {
   "cell_type": "code",
   "execution_count": null,
   "id": "0ee46911-53e7-4ba6-bc98-43181e19ac7a",
   "metadata": {},
   "outputs": [],
   "source": [
    "sns.pairplot(df_train, hue = 'yield')"
   ]
  },
  {
   "cell_type": "code",
   "execution_count": null,
   "id": "3f2d301f-d773-4200-849f-f977c87ebb3d",
   "metadata": {},
   "outputs": [],
   "source": [
    "sns.heatmap(df_train.drop('field_id', axis = 1).corr(), annot = True)"
   ]
  },
  {
   "cell_type": "markdown",
   "id": "f74fbc0a-a893-458c-be6f-5b52ea29dc50",
   "metadata": {},
   "source": [
    "# Splitting the dataset into the Training set and Test set"
   ]
  },
  {
   "cell_type": "code",
   "execution_count": null,
   "id": "146f04f3-cd44-44be-b277-a1b0ba360621",
   "metadata": {},
   "outputs": [],
   "source": [
    "from sklearn.model_selection import train_test_split\n",
    "x_train, x_val, Y_train, y_val = train_test_split(X_train,y_train, test_size = 0.2, random_state = 0)"
   ]
  },
  {
   "cell_type": "markdown",
   "id": "6e91dced-cc7b-431c-9158-2c3060371260",
   "metadata": {},
   "source": [
    "# Trainning the Multiple Linear Regression Model on the Training Set"
   ]
  },
  {
   "cell_type": "code",
   "execution_count": null,
   "id": "6721282f-c5d7-4e77-bf17-110084e9a5da",
   "metadata": {},
   "outputs": [],
   "source": [
    "from sklearn.linear_model import LinearRegression\n",
    "regressor = LinearRegression()\n",
    "regressor.fit(X_train, y_train)"
   ]
  },
  {
   "cell_type": "markdown",
   "id": "716daee5-530e-412b-959b-263a35511f4d",
   "metadata": {},
   "source": [
    "# Predicting the Test set results"
   ]
  },
  {
   "cell_type": "code",
   "execution_count": null,
   "id": "bb849a2e-383f-40b5-b7e3-284b86b4f743",
   "metadata": {},
   "outputs": [],
   "source": [
    "y_pred = regressor.predict(x_val)\n",
    "np.concatenate((y_pred.reshape(len(y_pred),1), y_val.reshape(len(y_val),1)),1)"
   ]
  },
  {
   "cell_type": "code",
   "execution_count": null,
   "id": "51071405-a8dc-4a62-806f-fe6a67eb255d",
   "metadata": {},
   "outputs": [],
   "source": [
    "y_pred = regressor.predict(X_test)\n",
    "np.concatenate((y_pred.reshape(len(y_pred),1), y_val.reshape(len(y_val),1)),1)"
   ]
  },
  {
   "cell_type": "code",
   "execution_count": null,
   "id": "37349c86-401c-4be6-a3e5-31cd5e1bdb5a",
   "metadata": {},
   "outputs": [],
   "source": [
    "y_pred"
   ]
  },
  {
   "cell_type": "code",
   "execution_count": null,
   "id": "83fddb51-9a11-41c1-b767-871dec018511",
   "metadata": {},
   "outputs": [],
   "source": [
    "from sklearn.metrics import mean_squared_error\n",
    "y_rmse = np.sqrt(mean_squared_error(y_val, y_pred))"
   ]
  },
  {
   "cell_type": "code",
   "execution_count": null,
   "id": "fecfe714-21a0-4215-acea-575ee2685918",
   "metadata": {},
   "outputs": [],
   "source": [
    "y_rmse"
   ]
  },
  {
   "cell_type": "code",
   "execution_count": null,
   "id": "3badb159-75c0-49d1-af93-a6a3b4b45432",
   "metadata": {},
   "outputs": [],
   "source": [
    "regressor.predict([[6.25,2.15,47.2,27.9,82,176.5,0.6]])"
   ]
  },
  {
   "cell_type": "code",
   "execution_count": null,
   "id": "89075804-abff-4643-acca-c073ff0efa9e",
   "metadata": {},
   "outputs": [],
   "source": [
    "regressor.coef_\n"
   ]
  },
  {
   "cell_type": "code",
   "execution_count": null,
   "id": "a3406856-a2fd-490e-8061-e0d2ac3be3a4",
   "metadata": {},
   "outputs": [],
   "source": [
    "regressor.intercept_"
   ]
  },
  {
   "cell_type": "code",
   "execution_count": null,
   "id": "d6b7e879-a235-4370-a342-9e06b348b067",
   "metadata": {},
   "outputs": [],
   "source": [
    "# Build submission DataFrame\n",
    "submission = pd.DataFrame({\n",
    "    \"field_id\": df_test[\"field_id\"],         \n",
    "    \"yield\": y_pred           \n",
    "})\n",
    "\n",
    "# Save to CSV\n",
    "submission.to_csv(\"sample_submission.csv\", index=False)"
   ]
  }
 ],
 "metadata": {
  "kernelspec": {
   "display_name": "Python 3 (ipykernel)",
   "language": "python",
   "name": "python3"
  },
  "language_info": {
   "codemirror_mode": {
    "name": "ipython",
    "version": 3
   },
   "file_extension": ".py",
   "mimetype": "text/x-python",
   "name": "python",
   "nbconvert_exporter": "python",
   "pygments_lexer": "ipython3",
   "version": "3.13.5"
  }
 },
 "nbformat": 4,
 "nbformat_minor": 5
}
